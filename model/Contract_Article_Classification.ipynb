{
 "cells": [
  {
   "cell_type": "code",
   "execution_count": 1,
   "id": "5d75ae1c",
   "metadata": {},
   "outputs": [],
   "source": [
    "import pandas as pd\n",
    "import numpy as np\n",
    "import matplotlib.pyplot as plt\n",
    "from collections import Counter\n",
    "from konlpy.tag import Kkma, Hannanum, Okt, Komoran\n",
    "from sklearn.model_selection import train_test_split\n",
    "from tensorflow.keras.preprocessing.text import Tokenizer\n",
    "from tensorflow.keras.preprocessing.sequence import pad_sequences"
   ]
  },
  {
   "cell_type": "code",
   "execution_count": 147,
   "id": "1e200855",
   "metadata": {
    "scrolled": true
   },
   "outputs": [
    {
     "data": {
      "text/html": [
       "<div>\n",
       "<style scoped>\n",
       "    .dataframe tbody tr th:only-of-type {\n",
       "        vertical-align: middle;\n",
       "    }\n",
       "\n",
       "    .dataframe tbody tr th {\n",
       "        vertical-align: top;\n",
       "    }\n",
       "\n",
       "    .dataframe thead th {\n",
       "        text-align: right;\n",
       "    }\n",
       "</style>\n",
       "<table border=\"1\" class=\"dataframe\">\n",
       "  <thead>\n",
       "    <tr style=\"text-align: right;\">\n",
       "      <th></th>\n",
       "      <th>document_id</th>\n",
       "      <th>text</th>\n",
       "      <th>label</th>\n",
       "    </tr>\n",
       "  </thead>\n",
       "  <tbody>\n",
       "    <tr>\n",
       "      <th>0</th>\n",
       "      <td>2</td>\n",
       "      <td>\"갑\"과 \"을\"은 본 공사를 원활하게 수행하기 위하여 상호 신의성실의 원칙에 따라 ...</td>\n",
       "      <td>1</td>\n",
       "    </tr>\n",
       "    <tr>\n",
       "      <th>1</th>\n",
       "      <td>2</td>\n",
       "      <td>공사목적물은 견적서에 의거하여 시공하는 건축물로 하며'' 설계변경 등 '갑\"과 \"을...</td>\n",
       "      <td>2</td>\n",
       "    </tr>\n",
       "    <tr>\n",
       "      <th>2</th>\n",
       "      <td>2</td>\n",
       "      <td>도급금액은 원칙적으로 본 계약상의 도급금액으로 한다''</td>\n",
       "      <td>4</td>\n",
       "    </tr>\n",
       "    <tr>\n",
       "      <th>3</th>\n",
       "      <td>2</td>\n",
       "      <td>다음 각 호 1의 사유로 \"을\"의 제반 비용이 발생할 경우 도급금액을 변경 한다''</td>\n",
       "      <td>4</td>\n",
       "    </tr>\n",
       "    <tr>\n",
       "      <th>4</th>\n",
       "      <td>2</td>\n",
       "      <td>제 2 항에 의한 도급금액의 변경은 \"을\"이 변경 내역을 작성하여 \"갑\" 에게 요청...</td>\n",
       "      <td>4</td>\n",
       "    </tr>\n",
       "  </tbody>\n",
       "</table>\n",
       "</div>"
      ],
      "text/plain": [
       "   document_id                                               text  label\n",
       "0            2  \"갑\"과 \"을\"은 본 공사를 원활하게 수행하기 위하여 상호 신의성실의 원칙에 따라 ...      1\n",
       "1            2  공사목적물은 견적서에 의거하여 시공하는 건축물로 하며'' 설계변경 등 '갑\"과 \"을...      2\n",
       "2            2                     도급금액은 원칙적으로 본 계약상의 도급금액으로 한다''      4\n",
       "3            2     다음 각 호 1의 사유로 \"을\"의 제반 비용이 발생할 경우 도급금액을 변경 한다''      4\n",
       "4            2  제 2 항에 의한 도급금액의 변경은 \"을\"이 변경 내역을 작성하여 \"갑\" 에게 요청...      4"
      ]
     },
     "execution_count": 147,
     "metadata": {},
     "output_type": "execute_result"
    }
   ],
   "source": [
    "dataset = pd.read_csv('dataset/dataset.csv')\n",
    "dataset.head()"
   ]
  },
  {
   "cell_type": "code",
   "execution_count": 148,
   "id": "17148282",
   "metadata": {},
   "outputs": [
    {
     "data": {
      "text/plain": [
       "(600, 21)"
      ]
     },
     "execution_count": 148,
     "metadata": {},
     "output_type": "execute_result"
    }
   ],
   "source": [
    "dataset['text'].nunique(), dataset['label'].nunique()"
   ]
  },
  {
   "cell_type": "code",
   "execution_count": 149,
   "id": "ef25d6d6",
   "metadata": {},
   "outputs": [
    {
     "data": {
      "text/plain": [
       "False"
      ]
     },
     "execution_count": 149,
     "metadata": {},
     "output_type": "execute_result"
    }
   ],
   "source": [
    "dataset.isnull().values.any()"
   ]
  },
  {
   "cell_type": "code",
   "execution_count": 150,
   "id": "280c3d73",
   "metadata": {},
   "outputs": [],
   "source": [
    "# stratify 옵션이 안먹는 이유: 1개만 존재하는 클래스가 있음, 최소 2개 이상은 있어야 가능\n",
    "from sklearn.utils import shuffle\n",
    "\n",
    "train_data = shuffle(dataset, random_state=42)"
   ]
  },
  {
   "cell_type": "code",
   "execution_count": 151,
   "id": "36674b35",
   "metadata": {},
   "outputs": [
    {
     "data": {
      "text/html": [
       "<div>\n",
       "<style scoped>\n",
       "    .dataframe tbody tr th:only-of-type {\n",
       "        vertical-align: middle;\n",
       "    }\n",
       "\n",
       "    .dataframe tbody tr th {\n",
       "        vertical-align: top;\n",
       "    }\n",
       "\n",
       "    .dataframe thead th {\n",
       "        text-align: right;\n",
       "    }\n",
       "</style>\n",
       "<table border=\"1\" class=\"dataframe\">\n",
       "  <thead>\n",
       "    <tr style=\"text-align: right;\">\n",
       "      <th></th>\n",
       "      <th>document_id</th>\n",
       "      <th>text</th>\n",
       "      <th>label</th>\n",
       "    </tr>\n",
       "  </thead>\n",
       "  <tbody>\n",
       "    <tr>\n",
       "      <th>634</th>\n",
       "      <td>50</td>\n",
       "      <td>\"을\"은 제2항의 규정에 의한 통지를 받은 때에는 다음의 사항을 준수하여야 한다.</td>\n",
       "      <td>8</td>\n",
       "    </tr>\n",
       "    <tr>\n",
       "      <th>220</th>\n",
       "      <td>27</td>\n",
       "      <td>명백한 \"A\" 실책에 의한 공사지연으로 약정된 공사가 오픈이 지연될 시 \"A\"은 \"...</td>\n",
       "      <td>7</td>\n",
       "    </tr>\n",
       "    <tr>\n",
       "      <th>426</th>\n",
       "      <td>41</td>\n",
       "      <td>공사 시설물에 대한 일체의 권한은 공사완공까지 \"을\"이 가지며 잔금 지불 후 \"갑\"...</td>\n",
       "      <td>0</td>\n",
       "    </tr>\n",
       "    <tr>\n",
       "      <th>428</th>\n",
       "      <td>41</td>\n",
       "      <td>\"을\"이 공사를 진행하는 중 \"갑\"의 자재변경이나 수정 또는 재공사로 인한 초과금액...</td>\n",
       "      <td>11</td>\n",
       "    </tr>\n",
       "    <tr>\n",
       "      <th>72</th>\n",
       "      <td>5</td>\n",
       "      <td>\"시공업자\"는 공사 완료 후 무상 수리 기간을 12개월로 한다. ( 천재지변 및 시...</td>\n",
       "      <td>13</td>\n",
       "    </tr>\n",
       "  </tbody>\n",
       "</table>\n",
       "</div>"
      ],
      "text/plain": [
       "     document_id                                               text  label\n",
       "634           50      \"을\"은 제2항의 규정에 의한 통지를 받은 때에는 다음의 사항을 준수하여야 한다.      8\n",
       "220           27  명백한 \"A\" 실책에 의한 공사지연으로 약정된 공사가 오픈이 지연될 시 \"A\"은 \"...      7\n",
       "426           41  공사 시설물에 대한 일체의 권한은 공사완공까지 \"을\"이 가지며 잔금 지불 후 \"갑\"...      0\n",
       "428           41  \"을\"이 공사를 진행하는 중 \"갑\"의 자재변경이나 수정 또는 재공사로 인한 초과금액...     11\n",
       "72             5  \"시공업자\"는 공사 완료 후 무상 수리 기간을 12개월로 한다. ( 천재지변 및 시...     13"
      ]
     },
     "execution_count": 151,
     "metadata": {},
     "output_type": "execute_result"
    }
   ],
   "source": [
    "train_data.head()"
   ]
  },
  {
   "cell_type": "code",
   "execution_count": 152,
   "id": "bad4d015",
   "metadata": {},
   "outputs": [
    {
     "name": "stdout",
     "output_type": "stream",
     "text": [
      "훈련용 데이터 수:  647\n"
     ]
    }
   ],
   "source": [
    "print(\"훈련용 데이터 수: \", len(train_data))"
   ]
  },
  {
   "cell_type": "markdown",
   "id": "11ec8f5f",
   "metadata": {},
   "source": [
    "### 훈련 데이터 셋의 분포"
   ]
  },
  {
   "cell_type": "code",
   "execution_count": 153,
   "id": "0ee79b84",
   "metadata": {
    "scrolled": true
   },
   "outputs": [
    {
     "data": {
      "text/plain": [
       "<AxesSubplot:>"
      ]
     },
     "execution_count": 153,
     "metadata": {},
     "output_type": "execute_result"
    },
    {
     "data": {
      "image/png": "[encoded data removed]",
      "text/plain": [
       "<Figure size 432x288 with 1 Axes>"
      ]
     },
     "metadata": {
      "needs_background": "light"
     },
     "output_type": "display_data"
    }
   ],
   "source": [
    "train_data['label'].value_counts().plot(kind='bar')"
   ]
  },
  {
   "cell_type": "code",
   "execution_count": 154,
   "id": "7fdc3ce3",
   "metadata": {},
   "outputs": [
    {
     "name": "stdout",
     "output_type": "stream",
     "text": [
      "    label  count\n",
      "0       0    141\n",
      "4       4    133\n",
      "13     13     56\n",
      "11     11     49\n",
      "8       8     44\n",
      "7       7     39\n",
      "19     19     24\n",
      "14     14     19\n",
      "5       5     19\n",
      "6       6     17\n",
      "12     12     15\n",
      "16     16     13\n",
      "1       1     13\n",
      "9       9     12\n",
      "10     10     11\n",
      "2       2     10\n",
      "17     17      9\n",
      "15     15      8\n",
      "18     18      8\n",
      "20     20      4\n",
      "3       3      3\n"
     ]
    }
   ],
   "source": [
    "print(train_data.groupby('label').size().reset_index(name = 'count').sort_values(by='count', ascending=False))"
   ]
  },
  {
   "cell_type": "code",
   "execution_count": 155,
   "id": "9e1416ba",
   "metadata": {},
   "outputs": [
    {
     "name": "stdout",
     "output_type": "stream",
     "text": [
      "document_id    0\n",
      "text           0\n",
      "label          0\n",
      "dtype: int64\n"
     ]
    },
    {
     "name": "stderr",
     "output_type": "stream",
     "text": [
      "C:\\Users\\opwe3\\AppData\\Local\\Temp/ipykernel_1900/4029668336.py:1: FutureWarning: The default value of regex will change from True to False in a future version.\n",
      "  train_data['text'] = train_data['text'].str.replace(\"[^ㄱ-ㅎㅏ-ㅣ가-힣 ]\", \" \")\n"
     ]
    }
   ],
   "source": [
    "train_data['text'] = train_data['text'].str.replace(\"[^ㄱ-ㅎㅏ-ㅣ가-힣 ]\", \" \")\n",
    "train_data['text'].replace('', np.nan, inplace=True)\n",
    "print(train_data.isnull().sum())"
   ]
  },
  {
   "cell_type": "code",
   "execution_count": 156,
   "id": "619376fc",
   "metadata": {},
   "outputs": [],
   "source": [
    "# test_data['text'] = test_data['text'].str.replace(\"[^ㄱ-ㅎㅏ-ㅣ가-힣 ]\", \" \")\n",
    "# test_data['text'].replace('', np.nan, inplace=True)\n",
    "# print('전처리 후 테스트용 샘플 수: ', len(test_data))"
   ]
  },
  {
   "cell_type": "code",
   "execution_count": 157,
   "id": "4776e437",
   "metadata": {},
   "outputs": [],
   "source": [
    "stopwords = ['도', '는', '다', '의', '가', '이', '은', '한', '에', '하', '고', \n",
    "             '을', '를', '인', '듯', '과', '와', '네', '들', '듯', '지', '임',\n",
    "            '만', '겜', '되', '음', '면', '제', '항', '저', '및', '으로', '어',\n",
    "            '등', '이나', '또는', '보', 'ㄴ', '어서', '늘', '모든', '대', '에서', '갑']"
   ]
  },
  {
   "cell_type": "code",
   "execution_count": 158,
   "id": "7aee3391",
   "metadata": {},
   "outputs": [],
   "source": [
    "hannanum = Hannanum()\n",
    "\n",
    "train_data['tokenized'] = train_data['text'].apply(hannanum.morphs)\n",
    "train_data['tokenized'] = train_data['tokenized'].apply(lambda x: [item for item in x if item not in stopwords])\n",
    "\n",
    "# test_data['tokenized'] = test_data['text'].apply(hannanum.morphs)\n",
    "# test_data['tokenized'] = test_data['tokenized'].apply(lambda x: [item for item in x if item not in stopwords])"
   ]
  },
  {
   "cell_type": "code",
   "execution_count": 159,
   "id": "8de1c7f7",
   "metadata": {},
   "outputs": [],
   "source": [
    "X_train = train_data['tokenized'].values\n",
    "y_train = train_data['label'].values\n",
    "# X_test = test_data['tokenized'].values\n",
    "# y_test = test_data['label'].values"
   ]
  },
  {
   "cell_type": "code",
   "execution_count": 160,
   "id": "fa342335",
   "metadata": {},
   "outputs": [],
   "source": [
    "tokenizer = Tokenizer()\n",
    "tokenizer.fit_on_texts(X_train)"
   ]
  },
  {
   "cell_type": "code",
   "execution_count": 161,
   "id": "2d0ddf96",
   "metadata": {},
   "outputs": [
    {
     "name": "stdout",
     "output_type": "stream",
     "text": [
      "단어 집합 크기:  1633\n",
      "등장 빈도가 1번 이하인 희귀 단어의 수: 791\n",
      "단어 집합에서 희귀 단어의 비율:  48.438456827924064\n",
      "전체 등장 빈도에서 희귀 단어 등장 빈도 비율:  6.6498528793610765\n"
     ]
    }
   ],
   "source": [
    "threshold = 2\n",
    "total_cnt = len(tokenizer.word_index)\n",
    "rare_cnt = 0\n",
    "total_freq = 0\n",
    "rare_freq = 0\n",
    "\n",
    "for key, value in tokenizer.word_counts.items():\n",
    "    total_freq = total_freq + value\n",
    "    \n",
    "    if (value < threshold):\n",
    "        rare_cnt += 1\n",
    "        rare_freq += value\n",
    "        \n",
    "print(\"단어 집합 크기: \", total_cnt)\n",
    "print(\"등장 빈도가 %s번 이하인 희귀 단어의 수: %s\"%(threshold-1, rare_cnt))\n",
    "print(\"단어 집합에서 희귀 단어의 비율: \", (rare_cnt / total_cnt)*100)\n",
    "print(\"전체 등장 빈도에서 희귀 단어 등장 빈도 비율: \", (rare_freq / total_freq)*100)"
   ]
  },
  {
   "cell_type": "code",
   "execution_count": 162,
   "id": "8b448ad8",
   "metadata": {},
   "outputs": [
    {
     "name": "stdout",
     "output_type": "stream",
     "text": [
      "단어 집합의 크기:  844\n"
     ]
    }
   ],
   "source": [
    "vocab_size = total_cnt - rare_cnt + 2\n",
    "print('단어 집합의 크기: ', vocab_size)"
   ]
  },
  {
   "cell_type": "code",
   "execution_count": 163,
   "id": "c462f0a4",
   "metadata": {},
   "outputs": [],
   "source": [
    "tokenizer = Tokenizer(vocab_size, oov_token='OOV')\n",
    "tokenizer.fit_on_texts(X_train)\n",
    "X_train = tokenizer.texts_to_sequences(X_train)\n",
    "# X_test = tokenizer.texts_to_sequences(X_test)"
   ]
  },
  {
   "cell_type": "code",
   "execution_count": 164,
   "id": "7103089a",
   "metadata": {},
   "outputs": [
    {
     "name": "stdout",
     "output_type": "stream",
     "text": [
      "[[37, 30, 13, 57, 73, 14, 10, 35, 53, 194, 7, 2], [1, 1, 13, 502, 503, 4, 1, 45, 3, 55, 9, 209, 68, 28, 3, 6, 260, 103, 341, 19, 504, 1, 40, 2], [4, 114, 31, 100, 171, 261, 115, 229, 15, 123, 40, 18, 9, 181, 2]]\n"
     ]
    }
   ],
   "source": [
    "print(X_train[:3])\n",
    "# print(X_test[:3])"
   ]
  },
  {
   "cell_type": "code",
   "execution_count": 165,
   "id": "ab55600c",
   "metadata": {},
   "outputs": [
    {
     "name": "stdout",
     "output_type": "stream",
     "text": [
      "최대 길이:  79\n",
      "평균 길이:  18.38485316846986\n"
     ]
    },
    {
     "data": {
      "image/png": "[encoded data removed]",
      "text/plain": [
       "<Figure size 432x288 with 1 Axes>"
      ]
     },
     "metadata": {
      "needs_background": "light"
     },
     "output_type": "display_data"
    }
   ],
   "source": [
    "print('최대 길이: ', max(len(l) for l in X_train))\n",
    "print('평균 길이: ', sum(map(len, X_train))/len(X_train))\n",
    "\n",
    "plt.hist([len(s) for s in X_train], bins=50)\n",
    "plt.xlabel('length of samples')\n",
    "plt.ylabel('number of samples')\n",
    "plt.show()"
   ]
  },
  {
   "cell_type": "code",
   "execution_count": 166,
   "id": "ab4829c6",
   "metadata": {},
   "outputs": [],
   "source": [
    "def below_threshold_len(max_len, nested_list):\n",
    "    count = 0\n",
    "    for sentence in nested_list:\n",
    "        if (len(sentence) <= max_len):\n",
    "            count = count + 1\n",
    "    print('전체 샘플 중 길이가 %s 이하인 샘플의 비율: %s'%(max_len, (count/len(nested_list))*100))"
   ]
  },
  {
   "cell_type": "code",
   "execution_count": 167,
   "id": "ea9febf7",
   "metadata": {},
   "outputs": [
    {
     "name": "stdout",
     "output_type": "stream",
     "text": [
      "전체 샘플 중 길이가 35 이하인 샘플의 비율: 94.5904173106646\n"
     ]
    }
   ],
   "source": [
    "max_len = 35\n",
    "below_threshold_len(max_len, X_train)"
   ]
  },
  {
   "cell_type": "code",
   "execution_count": 168,
   "id": "bd0eccc9",
   "metadata": {},
   "outputs": [],
   "source": [
    "X_train = pad_sequences(X_train, max_len, padding='post')\n",
    "# X_test = pad_sequences(X_test, max_len)"
   ]
  },
  {
   "cell_type": "code",
   "execution_count": 169,
   "id": "22b9f921",
   "metadata": {},
   "outputs": [],
   "source": [
    "import re\n",
    "from tensorflow.keras.layers import Embedding, Dense, LSTM, Bidirectional\n",
    "from tensorflow.keras.models import Sequential, load_model\n",
    "from tensorflow.keras.callbacks import EarlyStopping, ModelCheckpoint"
   ]
  },
  {
   "cell_type": "code",
   "execution_count": 170,
   "id": "e437eab3",
   "metadata": {},
   "outputs": [],
   "source": [
    "embedding_dim = 300\n",
    "hidden_units = 42\n",
    "\n",
    "model = Sequential()\n",
    "model.add(Embedding(vocab_size, embedding_dim, input_length=35))\n",
    "model.add(Bidirectional(LSTM(hidden_units)))\n",
    "model.add(Dense(21, activation='sigmoid'))"
   ]
  },
  {
   "cell_type": "code",
   "execution_count": 171,
   "id": "33a19f66",
   "metadata": {},
   "outputs": [
    {
     "name": "stdout",
     "output_type": "stream",
     "text": [
      "Model: \"sequential_1\"\n",
      "_________________________________________________________________\n",
      "Layer (type)                 Output Shape              Param #   \n",
      "=================================================================\n",
      "embedding_1 (Embedding)      (None, 35, 300)           253200    \n",
      "_________________________________________________________________\n",
      "bidirectional_1 (Bidirection (None, 84)                115248    \n",
      "_________________________________________________________________\n",
      "dense_1 (Dense)              (None, 21)                1785      \n",
      "=================================================================\n",
      "Total params: 370,233\n",
      "Trainable params: 370,233\n",
      "Non-trainable params: 0\n",
      "_________________________________________________________________\n"
     ]
    }
   ],
   "source": [
    "model.summary()"
   ]
  },
  {
   "cell_type": "code",
   "execution_count": 172,
   "id": "70150edc",
   "metadata": {},
   "outputs": [],
   "source": [
    "model.compile(optimizer='adam', loss='binary_crossentropy', metrics=['acc'])"
   ]
  },
  {
   "cell_type": "code",
   "execution_count": 173,
   "id": "ffde5474",
   "metadata": {},
   "outputs": [],
   "source": [
    "from tensorflow.keras.utils import to_categorical\n",
    "y_train = to_categorical(y_train)"
   ]
  },
  {
   "cell_type": "code",
   "execution_count": 174,
   "id": "e7cf4469",
   "metadata": {},
   "outputs": [
    {
     "name": "stdout",
     "output_type": "stream",
     "text": [
      "Epoch 1/20\n",
      "65/65 [==============================] - 5s 13ms/step - loss: 0.3040 - acc: 0.2164\n",
      "Epoch 2/20\n",
      "65/65 [==============================] - 1s 17ms/step - loss: 0.1638 - acc: 0.2241\n",
      "Epoch 3/20\n",
      "65/65 [==============================] - 1s 16ms/step - loss: 0.1576 - acc: 0.2983\n",
      "Epoch 4/20\n",
      "65/65 [==============================] - 1s 15ms/step - loss: 0.1469 - acc: 0.3679\n",
      "Epoch 5/20\n",
      "65/65 [==============================] - 1s 15ms/step - loss: 0.1326 - acc: 0.4807\n",
      "Epoch 6/20\n",
      "65/65 [==============================] - 1s 15ms/step - loss: 0.1159 - acc: 0.5796\n",
      "Epoch 7/20\n",
      "65/65 [==============================] - 1s 15ms/step - loss: 0.1003 - acc: 0.6708\n",
      "Epoch 8/20\n",
      "65/65 [==============================] - 1s 17ms/step - loss: 0.0876 - acc: 0.7419\n",
      "Epoch 9/20\n",
      "65/65 [==============================] - 1s 16ms/step - loss: 0.0774 - acc: 0.7651\n",
      "Epoch 10/20\n",
      "65/65 [==============================] - 1s 17ms/step - loss: 0.0687 - acc: 0.8022\n",
      "Epoch 11/20\n",
      "65/65 [==============================] - 1s 14ms/step - loss: 0.0617 - acc: 0.8331\n",
      "Epoch 12/20\n",
      "65/65 [==============================] - 1s 14ms/step - loss: 0.0549 - acc: 0.8470\n",
      "Epoch 13/20\n",
      "65/65 [==============================] - 1s 15ms/step - loss: 0.0495 - acc: 0.8856\n",
      "Epoch 14/20\n",
      "65/65 [==============================] - 1s 14ms/step - loss: 0.0455 - acc: 0.8903\n",
      "Epoch 15/20\n",
      "65/65 [==============================] - 1s 14ms/step - loss: 0.0409 - acc: 0.9212\n",
      "Epoch 16/20\n",
      "65/65 [==============================] - 1s 14ms/step - loss: 0.0363 - acc: 0.9289\n",
      "Epoch 17/20\n",
      "65/65 [==============================] - 1s 14ms/step - loss: 0.0331 - acc: 0.9366\n",
      "Epoch 18/20\n",
      "65/65 [==============================] - 1s 14ms/step - loss: 0.0300 - acc: 0.9459\n",
      "Epoch 19/20\n",
      "65/65 [==============================] - 1s 14ms/step - loss: 0.0277 - acc: 0.9505\n",
      "Epoch 20/20\n",
      "65/65 [==============================] - 1s 14ms/step - loss: 0.0264 - acc: 0.9505\n"
     ]
    }
   ],
   "source": [
    "history = model.fit(X_train, y_train, epochs=20, batch_size=10)"
   ]
  },
  {
   "cell_type": "code",
   "execution_count": 633,
   "id": "bce32b16",
   "metadata": {},
   "outputs": [],
   "source": [
    "y_test_origin = y_test\n",
    "y_test = to_categorical(y_test, num_classes=21)"
   ]
  },
  {
   "cell_type": "code",
   "execution_count": 634,
   "id": "f26430bb",
   "metadata": {},
   "outputs": [
    {
     "name": "stdout",
     "output_type": "stream",
     "text": [
      "7/7 [==============================] - 0s 9ms/step - loss: 0.1132 - acc: 0.6294\n"
     ]
    },
    {
     "data": {
      "text/plain": [
       "[0.11324718594551086, 0.6294416189193726]"
      ]
     },
     "execution_count": 634,
     "metadata": {},
     "output_type": "execute_result"
    }
   ],
   "source": [
    "model.evaluate(X_test, y_test)"
   ]
  },
  {
   "cell_type": "code",
   "execution_count": null,
   "id": "137e6d7a",
   "metadata": {},
   "outputs": [],
   "source": []
  },
  {
   "cell_type": "code",
   "execution_count": null,
   "id": "3fcbc9dc",
   "metadata": {},
   "outputs": [],
   "source": []
  },
  {
   "cell_type": "code",
   "execution_count": null,
   "id": "a99fb284",
   "metadata": {},
   "outputs": [],
   "source": []
  },
  {
   "cell_type": "code",
   "execution_count": null,
   "id": "b036624a",
   "metadata": {},
   "outputs": [],
   "source": []
  },
  {
   "cell_type": "code",
   "execution_count": null,
   "id": "58d1cb95",
   "metadata": {},
   "outputs": [],
   "source": []
  },
  {
   "cell_type": "code",
   "execution_count": null,
   "id": "5971a5a8",
   "metadata": {},
   "outputs": [],
   "source": []
  },
  {
   "cell_type": "code",
   "execution_count": null,
   "id": "d94face1",
   "metadata": {},
   "outputs": [],
   "source": []
  },
  {
   "cell_type": "code",
   "execution_count": null,
   "id": "cd61b8a9",
   "metadata": {},
   "outputs": [],
   "source": []
  },
  {
   "cell_type": "code",
   "execution_count": null,
   "id": "86364219",
   "metadata": {},
   "outputs": [],
   "source": []
  },
  {
   "cell_type": "code",
   "execution_count": null,
   "id": "75c88622",
   "metadata": {},
   "outputs": [],
   "source": []
  },
  {
   "cell_type": "code",
   "execution_count": null,
   "id": "e5eeb516",
   "metadata": {},
   "outputs": [],
   "source": []
  },
  {
   "cell_type": "code",
   "execution_count": 216,
   "id": "ee39c0e4",
   "metadata": {},
   "outputs": [],
   "source": [
    "def predict_test(new_sentence):\n",
    "    new_sentence = re.sub(\"[^ㄱ-ㅎㅏ-ㅣ가-힣 ]\", \" \", new_sentence)\n",
    "    new_sentence = hannanum.morphs(new_sentence)\n",
    "    new_sentence = [ word for word in new_sentence if not word in stopwords ]\n",
    "    encoded = tokenizer.texts_to_sequences([new_sentence])\n",
    "    pad_new = pad_sequences(encoded, maxlen=max_len, padding='post')\n",
    "    score = model.predict(pad_new)\n",
    "    \n",
    "    return np.argmax(score[0])"
   ]
  },
  {
   "cell_type": "code",
   "execution_count": 223,
   "id": "88ab0d8d",
   "metadata": {
    "scrolled": false
   },
   "outputs": [
    {
     "name": "stdout",
     "output_type": "stream",
     "text": [
      "실제 조항 번호:  1\n",
      "모델 조항 번호:  1\n",
      "================================\n",
      "실제 조항 번호:  2\n",
      "모델 조항 번호:  4\n",
      "================================\n",
      "실제 조항 번호:  2\n",
      "모델 조항 번호:  0\n",
      "================================\n",
      "실제 조항 번호:  2\n",
      "모델 조항 번호:  0\n",
      "================================\n",
      "실제 조항 번호:  3\n",
      "모델 조항 번호:  3\n",
      "================================\n",
      "실제 조항 번호:  4\n",
      "모델 조항 번호:  4\n",
      "================================\n",
      "실제 조항 번호:  4\n",
      "모델 조항 번호:  4\n",
      "================================\n",
      "실제 조항 번호:  4\n",
      "모델 조항 번호:  4\n",
      "================================\n",
      "실제 조항 번호:  4\n",
      "모델 조항 번호:  0\n",
      "================================\n",
      "실제 조항 번호:  4\n",
      "모델 조항 번호:  4\n",
      "================================\n",
      "실제 조항 번호:  5\n",
      "모델 조항 번호:  5\n",
      "================================\n",
      "실제 조항 번호:  5\n",
      "모델 조항 번호:  5\n",
      "================================\n",
      "실제 조항 번호:  5\n",
      "모델 조항 번호:  5\n",
      "================================\n",
      "실제 조항 번호:  6\n",
      "모델 조항 번호:  6\n",
      "================================\n",
      "실제 조항 번호:  6\n",
      "모델 조항 번호:  13\n",
      "================================\n",
      "실제 조항 번호:  7\n",
      "모델 조항 번호:  0\n",
      "================================\n",
      "실제 조항 번호:  7\n",
      "모델 조항 번호:  7\n",
      "================================\n",
      "실제 조항 번호:  8\n",
      "모델 조항 번호:  8\n",
      "================================\n",
      "실제 조항 번호:  8\n",
      "모델 조항 번호:  8\n",
      "================================\n",
      "실제 조항 번호:  8\n",
      "모델 조항 번호:  8\n",
      "================================\n",
      "실제 조항 번호:  9\n",
      "모델 조항 번호:  9\n",
      "================================\n",
      "실제 조항 번호:  9\n",
      "모델 조항 번호:  9\n",
      "================================\n",
      "실제 조항 번호:  10\n",
      "모델 조항 번호:  10\n",
      "================================\n",
      "실제 조항 번호:  10\n",
      "모델 조항 번호:  5\n",
      "================================\n",
      "실제 조항 번호:  10\n",
      "모델 조항 번호:  10\n",
      "================================\n",
      "실제 조항 번호:  11\n",
      "모델 조항 번호:  11\n",
      "================================\n",
      "실제 조항 번호:  11\n",
      "모델 조항 번호:  11\n",
      "================================\n",
      "실제 조항 번호:  12\n",
      "모델 조항 번호:  16\n",
      "================================\n",
      "실제 조항 번호:  12\n",
      "모델 조항 번호:  12\n",
      "================================\n",
      "실제 조항 번호:  12\n",
      "모델 조항 번호:  7\n",
      "================================\n",
      "실제 조항 번호:  13\n",
      "모델 조항 번호:  13\n",
      "================================\n",
      "실제 조항 번호:  13\n",
      "모델 조항 번호:  13\n",
      "================================\n",
      "실제 조항 번호:  13\n",
      "모델 조항 번호:  13\n",
      "================================\n",
      "실제 조항 번호:  13\n",
      "모델 조항 번호:  13\n",
      "================================\n",
      "실제 조항 번호:  13\n",
      "모델 조항 번호:  13\n",
      "================================\n",
      "실제 조항 번호:  14\n",
      "모델 조항 번호:  14\n",
      "================================\n",
      "실제 조항 번호:  14\n",
      "모델 조항 번호:  14\n",
      "================================\n",
      "실제 조항 번호:  15\n",
      "모델 조항 번호:  0\n",
      "================================\n",
      "실제 조항 번호:  15\n",
      "모델 조항 번호:  15\n",
      "================================\n",
      "실제 조항 번호:  16\n",
      "모델 조항 번호:  16\n",
      "================================\n",
      "실제 조항 번호:  16\n",
      "모델 조항 번호:  16\n",
      "================================\n",
      "실제 조항 번호:  17\n",
      "모델 조항 번호:  17\n",
      "================================\n",
      "실제 조항 번호:  17\n",
      "모델 조항 번호:  13\n",
      "================================\n",
      "실제 조항 번호:  17\n",
      "모델 조항 번호:  17\n",
      "================================\n",
      "실제 조항 번호:  18\n",
      "모델 조항 번호:  9\n",
      "================================\n",
      "실제 조항 번호:  18\n",
      "모델 조항 번호:  8\n",
      "================================\n",
      "실제 조항 번호:  18\n",
      "모델 조항 번호:  0\n",
      "================================\n",
      "실제 조항 번호:  19\n",
      "모델 조항 번호:  19\n",
      "================================\n",
      "실제 조항 번호:  20\n",
      "모델 조항 번호:  0\n",
      "================================\n",
      "0.6938775510204082\n",
      "{0, 1, 3, 4, 5, 6, 7, 8, 9, 10, 11, 12, 13, 14, 15, 16, 17, 19}\n"
     ]
    }
   ],
   "source": [
    "standard = pd.read_csv('dataset/standard.csv', names=['document_id', 'text', 'label'])\n",
    "result = []\n",
    "model_predict = []\n",
    "for doc_id, text, label in standard.values:\n",
    "    print(\"실제 조항 번호: \", label)\n",
    "    predict = predict_test(text)\n",
    "    model_predict.append(predict)\n",
    "    print(\"모델 조항 번호: \", predict)\n",
    "    if label == predict:\n",
    "        result.append(True)\n",
    "    else:\n",
    "        result.append(False)\n",
    "    print(\"================================\")\n",
    "    \n",
    "print(sum(result)/len(result))\n",
    "\n",
    "model_predict.sort()\n",
    "print(set(model_predict))"
   ]
  },
  {
   "cell_type": "code",
   "execution_count": null,
   "id": "b568c9a6",
   "metadata": {},
   "outputs": [],
   "source": []
  }
 ],
 "metadata": {
  "kernelspec": {
   "display_name": "Python 3 (ipykernel)",
   "language": "python",
   "name": "python3"
  },
  "language_info": {
   "codemirror_mode": {
    "name": "ipython",
    "version": 3
   },
   "file_extension": ".py",
   "mimetype": "text/x-python",
   "name": "python",
   "nbconvert_exporter": "python",
   "pygments_lexer": "ipython3",
   "version": "3.9.7"
  }
 },
 "nbformat": 4,
 "nbformat_minor": 5
}
