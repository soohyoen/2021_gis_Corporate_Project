{
 "cells": [
  {
   "cell_type": "code",
   "execution_count": 32,
   "id": "2e4cebf4",
   "metadata": {},
   "outputs": [],
   "source": [
    "import os"
   ]
  },
  {
   "cell_type": "code",
   "execution_count": 43,
   "id": "c101a095",
   "metadata": {},
   "outputs": [],
   "source": [
    "from PIL import Image\n",
    "\n",
    "path = 'C:/Users/gnejf/Desktop/new_image'\n",
    "file_list = os.listdir(path)\n",
    "images_list = [f'{path}/{file}' for file in file_list]\n",
    "\n",
    "imgs = [Image.open(i) for i in images_list]\n",
    "\n",
    "for i,img in enumerate(imgs):\n",
    "    if img.width > 3000:\n",
    "        imgs[i] = img.resize((1800,1200),Image.ANTIALIAS)\n",
    "        imgs[i] = imgs[i].transpose(Image.ROTATE_270)\n",
    "        \n",
    "min_img_width = min(i.width for i in imgs)\n",
    "\n",
    "total_height = 0\n",
    "for i, img in enumerate(imgs):\n",
    "    \n",
    "    if img.width > min_img_width:\n",
    "        imgs[i] = img.resize((min_img_width, int(img.height / img.width * min_img_width)), Image.ANTIALIAS)\n",
    "    total_height += imgs[i].height\n",
    "\n",
    "# I have picked the mode of the first image to be generic. You may have other ideas\n",
    "# Now that we know the total height of all of the resized images, we know the height of our final image\n",
    "img_merge = Image.new(imgs[0].mode, (min_img_width, total_height))\n",
    "y = 0\n",
    "for img in imgs:\n",
    "    img_merge.paste(img, (0, y))\n",
    "    y += img.height\n",
    "img_merge.save(f'C:/Users/gnejf/Desktop/merge_image/{file_list[0]}')"
   ]
  },
  {
   "cell_type": "code",
   "execution_count": null,
   "id": "344e3f14",
   "metadata": {},
   "outputs": [],
   "source": []
  }
 ],
 "metadata": {
  "kernelspec": {
   "display_name": "Python 3 (ipykernel)",
   "language": "python",
   "name": "python3"
  },
  "language_info": {
   "codemirror_mode": {
    "name": "ipython",
    "version": 3
   },
   "file_extension": ".py",
   "mimetype": "text/x-python",
   "name": "python",
   "nbconvert_exporter": "python",
   "pygments_lexer": "ipython3",
   "version": "3.9.7"
  }
 },
 "nbformat": 4,
 "nbformat_minor": 5
}
